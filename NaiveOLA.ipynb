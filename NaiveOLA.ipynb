{
 "cells": [
  {
   "cell_type": "code",
   "execution_count": 2,
   "metadata": {},
   "outputs": [],
   "source": [
    "#### \n",
    "import math\n",
    "import sounddevice as sd\n",
    "from scipy.io import wavfile\n",
    "import matplotlib.pyplot as plt\n",
    "import numpy as np"
   ]
  },
  {
   "cell_type": "code",
   "execution_count": 3,
   "metadata": {},
   "outputs": [],
   "source": [
    "fs, data = wavfile.read('Cluster.wav')\n",
    "data =data[141312:,0]"
   ]
  },
  {
   "cell_type": "code",
   "execution_count": 4,
   "metadata": {},
   "outputs": [
    {
     "data": {
      "text/plain": [
       "[<matplotlib.lines.Line2D at 0x7f5956a5f4d0>]"
      ]
     },
     "execution_count": 4,
     "metadata": {},
     "output_type": "execute_result"
    },
    {
     "data": {
      "image/png": "[encoded data removed]",
      "text/plain": [
       "<Figure size 432x288 with 1 Axes>"
      ]
     },
     "metadata": {
      "needs_background": "light"
     },
     "output_type": "display_data"
    }
   ],
   "source": [
    "plt.plot(data)"
   ]
  },
  {
   "cell_type": "code",
   "execution_count": 261,
   "metadata": {},
   "outputs": [],
   "source": [
    "sd.play(data,fs)"
   ]
  },
  {
   "cell_type": "code",
   "execution_count": 5,
   "metadata": {},
   "outputs": [
    {
     "data": {
      "text/plain": [
       "5619712.0"
      ]
     },
     "execution_count": 5,
     "metadata": {},
     "output_type": "execute_result"
    }
   ],
   "source": [
    "windowLen = 2048\n",
    "Analysis_H = 1024\n",
    "pad_data = np.append(np.zeros(int(windowLen/2)),data)\n",
    "analysisCount = len(pad_data)/Analysis_H -1\n",
    "np.hanning(windowLen)\n",
    "2048+(analysisCount-1)*1024"
   ]
  },
  {
   "cell_type": "code",
   "execution_count": 6,
   "metadata": {},
   "outputs": [],
   "source": [
    "rec_H = 768\n",
    "gama  =Analysis_H*np.arange(0,analysisCount)\n",
    "beta= rec_H*np.arange(0,analysisCount)\n",
    "length_y = windowLen+rec_H* (analysisCount)\n",
    "window_weight =np.zeros(int(length_y));\n",
    "recSig=np.zeros(int(length_y));\n",
    "window = np.hamming(windowLen)"
   ]
  },
  {
   "cell_type": "code",
   "execution_count": 7,
   "metadata": {},
   "outputs": [],
   "source": [
    "for i in range(0,len(gama)) :\n",
    "    #print(i)\n",
    "    start_a =int(gama[i]);\n",
    "    xw = np.multiply(window,pad_data[start_a: start_a+windowLen])\n",
    "    start_s = int(beta[i])\n",
    "    recSig[start_s:start_s+windowLen] = recSig[start_s:start_s+windowLen]+xw\n",
    "    window_weight[start_s:start_s+windowLen] = window_weight[start_s:start_s+windowLen]+window"
   ]
  },
  {
   "cell_type": "code",
   "execution_count": 8,
   "metadata": {},
   "outputs": [],
   "source": [
    "start=1024\n",
    "stop =1024*1500\n",
    "count=0;\n",
    "portion =  np.zeros(int(stop-start)+1, dtype=np.int16)\n",
    "for i in range(1024, int(stop-start)+1025):\n",
    "    portion[count] = recSig[i]/window_weight[i]\n",
    "    count=count+1\n"
   ]
  },
  {
   "cell_type": "code",
   "execution_count": 1,
   "metadata": {},
   "outputs": [],
   "source": [
    "dir()\n",
    "for name in dir():\n",
    "    if not name.startswith('_'):\n",
    "        del globals()[name]"
   ]
  },
  {
   "cell_type": "code",
   "execution_count": 256,
   "metadata": {},
   "outputs": [],
   "source": [
    "sd.stop()"
   ]
  },
  {
   "cell_type": "code",
   "execution_count": 9,
   "metadata": {},
   "outputs": [],
   "source": [
    "sd.play(portion,fs)"
   ]
  },
  {
   "cell_type": "code",
   "execution_count": 81,
   "metadata": {},
   "outputs": [
    {
     "data": {
      "text/plain": [
       "4321280.0"
      ]
     },
     "execution_count": 81,
     "metadata": {},
     "output_type": "execute_result"
    }
   ],
   "source": [
    "windowLen+rec_H* (analysisCount)"
   ]
  },
  {
   "cell_type": "code",
   "execution_count": 67,
   "metadata": {},
   "outputs": [
    {
     "data": {
      "text/plain": [
       "array([4, 4, 3])"
      ]
     },
     "execution_count": 67,
     "metadata": {},
     "output_type": "execute_result"
    }
   ],
   "source": [
    "a"
   ]
  },
  {
   "cell_type": "code",
   "execution_count": 77,
   "metadata": {},
   "outputs": [
    {
     "data": {
      "text/plain": [
       "5760000.0"
      ]
     },
     "execution_count": 77,
     "metadata": {},
     "output_type": "execute_result"
    }
   ],
   "source": [
    "(analysisCount)*1024+2048"
   ]
  },
  {
   "cell_type": "code",
   "execution_count": 88,
   "metadata": {},
   "outputs": [
    {
     "data": {
      "text/plain": [
       "array([0.08      , 0.08092613, 0.08370079, 0.0883128 , 0.0947436 ,\n",
       "       0.10296729, 0.11295075, 0.12465379, 0.13802929, 0.15302337,\n",
       "       0.16957568, 0.18761956, 0.20708234, 0.22788567, 0.24994577,\n",
       "       0.27317382, 0.29747628, 0.32275531, 0.34890909, 0.37583234,\n",
       "       0.40341663, 0.43155089, 0.46012184, 0.48901443, 0.51811232,\n",
       "       0.54729834, 0.57645498, 0.60546483, 0.63421107, 0.66257795,\n",
       "       0.69045126, 0.71771876, 0.74427064, 0.77      , 0.79480323,\n",
       "       0.81858046, 0.84123594, 0.86267845, 0.88282165, 0.90158442,\n",
       "       0.91889123, 0.93467237, 0.94886431, 0.96140989, 0.97225861,\n",
       "       0.98136677, 0.9886977 , 0.99422189, 0.99791708, 0.99976841,\n",
       "       0.99976841, 0.99791708, 0.99422189, 0.9886977 , 0.98136677,\n",
       "       0.97225861, 0.96140989, 0.94886431, 0.93467237, 0.91889123,\n",
       "       0.90158442, 0.88282165, 0.86267845, 0.84123594, 0.81858046,\n",
       "       0.79480323, 0.77      , 0.74427064, 0.71771876, 0.69045126,\n",
       "       0.66257795, 0.63421107, 0.60546483, 0.57645498, 0.54729834,\n",
       "       0.51811232, 0.48901443, 0.46012184, 0.43155089, 0.40341663,\n",
       "       0.37583234, 0.34890909, 0.32275531, 0.29747628, 0.27317382,\n",
       "       0.24994577, 0.22788567, 0.20708234, 0.18761956, 0.16957568,\n",
       "       0.15302337, 0.13802929, 0.12465379, 0.11295075, 0.10296729,\n",
       "       0.0947436 , 0.0883128 , 0.08370079, 0.08092613, 0.08      ])"
      ]
     },
     "execution_count": 88,
     "metadata": {},
     "output_type": "execute_result"
    }
   ],
   "source": [
    "np.hamming(100)"
   ]
  },
  {
   "cell_type": "code",
   "execution_count": 94,
   "metadata": {},
   "outputs": [
    {
     "data": {
      "text/plain": [
       "array([0., 0., 0., 0., 0.])"
      ]
     },
     "execution_count": 94,
     "metadata": {},
     "output_type": "execute_result"
    }
   ],
   "source": [
    "np.zeros(5)"
   ]
  },
  {
   "cell_type": "code",
   "execution_count": 112,
   "metadata": {},
   "outputs": [
    {
     "data": {
      "text/plain": [
       "5761024.0"
      ]
     },
     "execution_count": 112,
     "metadata": {},
     "output_type": "execute_result"
    }
   ],
   "source": [
    "gama[-1]+2048"
   ]
  },
  {
   "cell_type": "code",
   "execution_count": 122,
   "metadata": {},
   "outputs": [
    {
     "data": {
      "text/plain": [
       "(2048,)"
      ]
     },
     "execution_count": 122,
     "metadata": {},
     "output_type": "execute_result"
    }
   ],
   "source": [
    "window.shape"
   ]
  },
  {
   "cell_type": "code",
   "execution_count": 130,
   "metadata": {},
   "outputs": [
    {
     "data": {
      "text/plain": [
       "array([0.08      , 0.08000217, 0.08000867, ..., 0.        , 0.        ,\n",
       "       0.        ])"
      ]
     },
     "execution_count": 130,
     "metadata": {},
     "output_type": "execute_result"
    }
   ],
   "source": [
    "window_weight"
   ]
  },
  {
   "cell_type": "code",
   "execution_count": 131,
   "metadata": {},
   "outputs": [],
   "source": [
    "a= recSig[start_s:start_s+windowLen]+xw"
   ]
  },
  {
   "cell_type": "code",
   "execution_count": 141,
   "metadata": {},
   "outputs": [
    {
     "name": "stdout",
     "output_type": "stream",
     "text": [
      "[-3.88       -2.16011268 -0.80030337 ...  0.          0.\n",
      "  0.        ]\n"
     ]
    }
   ],
   "source": [
    "print(recSig)"
   ]
  },
  {
   "cell_type": "code",
   "execution_count": 140,
   "metadata": {},
   "outputs": [],
   "source": [
    "recSig[start_s:] = recSig[start_s:]+ xw[0:10]"
   ]
  },
  {
   "cell_type": "code",
   "execution_count": 185,
   "metadata": {},
   "outputs": [
    {
     "data": {
      "text/plain": [
       "array([0., 0., 0., 0., 0., 0., 0., 0., 0., 0., 0., 0., 0., 0., 0., 0., 0.,\n",
       "       0., 0., 0., 0., 0., 0., 0., 0., 0., 0., 0., 0., 0., 0., 0., 0., 0.,\n",
       "       0., 0., 0., 0., 0., 0., 0., 0., 0., 0., 0., 0., 0., 0., 0., 0., 0.,\n",
       "       0., 0., 0., 0., 0., 0., 0., 0., 0., 0., 0., 0., 0., 0., 0., 0., 0.,\n",
       "       0., 0., 0., 0., 0., 0., 0., 0.])"
      ]
     },
     "execution_count": 185,
     "metadata": {},
     "output_type": "execute_result"
    }
   ],
   "source": [
    "recSig[1024:1100]"
   ]
  },
  {
   "cell_type": "code",
   "execution_count": 172,
   "metadata": {},
   "outputs": [
    {
     "data": {
      "text/plain": [
       "array([0, 0, 0, ..., 0, 0, 0], dtype=int16)"
      ]
     },
     "execution_count": 172,
     "metadata": {},
     "output_type": "execute_result"
    }
   ],
   "source": [
    "portion[1:10024]"
   ]
  },
  {
   "cell_type": "code",
   "execution_count": 215,
   "metadata": {},
   "outputs": [],
   "source": [
    "i=95\n",
    "start_a =int(gama[i]);\n",
    "xw = np.multiply(window,pad_data[start_a: start_a+windowLen])"
   ]
  },
  {
   "cell_type": "code",
   "execution_count": 216,
   "metadata": {},
   "outputs": [
    {
     "data": {
      "text/plain": [
       "array([0., 0., 0., ..., 0., 0., 0.])"
      ]
     },
     "execution_count": 216,
     "metadata": {},
     "output_type": "execute_result"
    }
   ],
   "source": [
    "pad_data[start_a: start_a+windowLen]"
   ]
  },
  {
   "cell_type": "code",
   "execution_count": 262,
   "metadata": {},
   "outputs": [],
   "source": [
    "sd.stop()"
   ]
  },
  {
   "cell_type": "code",
   "execution_count": null,
   "metadata": {},
   "outputs": [],
   "source": []
  },
  {
   "cell_type": "code",
   "execution_count": 238,
   "metadata": {},
   "outputs": [
    {
     "data": {
      "text/plain": [
       "138688"
      ]
     },
     "execution_count": 238,
     "metadata": {},
     "output_type": "execute_result"
    }
   ],
   "source": [
    "140000-1312"
   ]
  },
  {
   "cell_type": "code",
   "execution_count": null,
   "metadata": {},
   "outputs": [],
   "source": []
  }
 ],
 "metadata": {
  "kernelspec": {
   "display_name": "Python 3",
   "language": "python",
   "name": "python3"
  },
  "language_info": {
   "codemirror_mode": {
    "name": "ipython",
    "version": 3
   },
   "file_extension": ".py",
   "mimetype": "text/x-python",
   "name": "python",
   "nbconvert_exporter": "python",
   "pygments_lexer": "ipython3",
   "version": "3.7.6"
  }
 },
 "nbformat": 4,
 "nbformat_minor": 4
}
