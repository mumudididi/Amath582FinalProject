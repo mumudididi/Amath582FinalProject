{
 "cells": [
  {
   "cell_type": "code",
   "execution_count": 118,
   "metadata": {},
   "outputs": [],
   "source": [
    "dir()\n",
    "for name in dir():\n",
    "    if not name.startswith('_'):\n",
    "        del globals()[name]"
   ]
  },
  {
   "cell_type": "code",
   "execution_count": 119,
   "metadata": {},
   "outputs": [],
   "source": [
    "\n",
    "#### \n",
    "import math\n",
    "import sounddevice as sd\n",
    "from scipy.io import wavfile\n",
    "import matplotlib.pyplot as plt\n",
    "import numpy as np\n",
    "import cmath "
   ]
  },
  {
   "cell_type": "code",
   "execution_count": 120,
   "metadata": {},
   "outputs": [],
   "source": [
    "#fs, data = wavfile.read('Cluster.wav')\n",
    "fs, data = wavfile.read('Medicine.wav')\n",
    "#data =data[141312:,0]\n",
    "#data =data[:,0]"
   ]
  },
  {
   "cell_type": "code",
   "execution_count": 121,
   "metadata": {},
   "outputs": [
    {
     "data": {
      "text/plain": [
       "[<matplotlib.lines.Line2D at 0x7fa9c141a450>]"
      ]
     },
     "execution_count": 121,
     "metadata": {},
     "output_type": "execute_result"
    },
    {
     "data": {
      "image/png": "[encoded data removed]",
      "text/plain": [
       "<Figure size 432x288 with 1 Axes>"
      ]
     },
     "metadata": {
      "needs_background": "light"
     },
     "output_type": "display_data"
    }
   ],
   "source": [
    "plt.plot(data)"
   ]
  },
  {
   "cell_type": "code",
   "execution_count": 17,
   "metadata": {},
   "outputs": [],
   "source": [
    "sd.play(data,fs)"
   ]
  },
  {
   "cell_type": "code",
   "execution_count": 18,
   "metadata": {},
   "outputs": [],
   "source": [
    "sd.stop()"
   ]
  },
  {
   "cell_type": "code",
   "execution_count": 122,
   "metadata": {},
   "outputs": [],
   "source": [
    "def padding(data,window_len,hop_size,Ahop_times):\n",
    "    #Ahop_times = int(np.ceil((len(data) - window_len)/hop_size))\n",
    "    required_len = int(hop_size * (Ahop_times)+window_len)\n",
    "    pad_len = required_len - len(data)\n",
    "    #return [required_len,pad_len,np.append(data,np.zeros(pad_len))]\n",
    "    return [pad_len,np.append(data,np.zeros(pad_len))]\n",
    "    "
   ]
  },
  {
   "cell_type": "code",
   "execution_count": 123,
   "metadata": {},
   "outputs": [],
   "source": [
    "def init_analysis_hop(data, window_len,overlap_factor):\n",
    "    length_of_original = len(data)\n",
    "    overlap_length= overlap_factor * window_len\n",
    "    Analysis_H = (1-overlap_factor) * window_len\n",
    "    #Ahop_times = round(length_of_original/ Analysis_H) -1\n",
    "    Ahop_times = int(np.ceil((length_of_original - window_len)/Analysis_H))\n",
    "    newData = padding(data, window_len,Analysis_H,Ahop_times)\n",
    "    gama = Analysis_H * np.arange(0,Ahop_times+1)\n",
    "    return [Ahop_times, gama, newData[0],newData[1]]\n",
    "    \n",
    "    "
   ]
  },
  {
   "cell_type": "code",
   "execution_count": 124,
   "metadata": {},
   "outputs": [],
   "source": [
    "def analysis_slice(data, Ahop_times, gama,window_len):\n",
    "    window = np.hamming(window_len)\n",
    "    transformed_xw=[]\n",
    "    for start_point in gama:\n",
    "        start_point =int(start_point)\n",
    "        xw =np.multiply(data[start_point:start_point+window_len],window)\n",
    "        transformed_xw = transformed_xw + [np.fft.fft(xw)]\n",
    "    print(len(transformed_xw))\n",
    "    return transformed_xw"
   ]
  },
  {
   "cell_type": "code",
   "execution_count": 159,
   "metadata": {},
   "outputs": [],
   "source": [
    "def init_synthesis_hop(stretch_factor,window_len,gama,transformed_xw):\n",
    "    beta = stretch_factor*gama\n",
    "    rec_len =int( beta[-1]+ window_len)\n",
    "    windowSum = np.zeros(rec_len)\n",
    "    ola_sig= np.zeros(rec_len)\n",
    "    winSquare =np.multiply(np.hamming(window_len),np.hamming(window_len))\n",
    "    ind= 0;\n",
    "    for start in beta:\n",
    "        start=int(start)\n",
    "        windowSum[start: start+window_len] = windowSum[start:start+window_len] +  winSquare\n",
    "        ola_sig[start:start+window_len] = ola_sig[start:start+window_len]+ np.multiply(np.fft.ifft(transformed_xw[ind]),np.hamming(win_len))\n",
    "        ind=ind+1\n",
    "    recSig = np.divide(ola_sig,windowSum)\n",
    "    return [beta, rec_len,recSig]"
   ]
  },
  {
   "cell_type": "code",
   "execution_count": 182,
   "metadata": {},
   "outputs": [],
   "source": [
    "win_len = 8192\n",
    "overlap_factor =0.75\n",
    "stretch_factor = 1.5\n",
    "#(.5 .5 8192) (.75 1.5 8192)"
   ]
  },
  {
   "cell_type": "code",
   "execution_count": 183,
   "metadata": {},
   "outputs": [],
   "source": [
    "[Ahop_times,gama,pad_len,newData] = init_analysis_hop(data,win_len, overlap_factor=overlap_factor)"
   ]
  },
  {
   "cell_type": "code",
   "execution_count": 184,
   "metadata": {},
   "outputs": [
    {
     "name": "stdout",
     "output_type": "stream",
     "text": [
      "4141\n",
      "[ 97557.80215763    +0.j         -81085.3863196 +87295.64430061j\n",
      " 121398.86613918-79744.83023699j ... -75635.91895763-95896.20535844j\n",
      " 121398.86613918+79744.83023699j -81085.3863196 -87295.64430061j]\n"
     ]
    }
   ],
   "source": [
    "trans_xw= analysis_slice(newData,Ahop_times,gama,win_len)\n",
    "print(trans_xw[1200])"
   ]
  },
  {
   "cell_type": "code",
   "execution_count": 189,
   "metadata": {},
   "outputs": [
    {
     "name": "stderr",
     "output_type": "stream",
     "text": [
      "/home/mumu/anaconda3/lib/python3.7/site-packages/ipykernel_launcher.py:11: ComplexWarning: Casting complex values to real discards the imaginary part\n",
      "  # This is added back by InteractiveShellApp.init_path()\n"
     ]
    }
   ],
   "source": [
    "#[beta, rec_len,recSig]=init_synthesis_hop(stretch_factor=stretch_factor,window_len=win_len,gama=gama,transformed_xw=X_tilta)\n",
    "[beta, rec_len,recSig]=init_synthesis_hop(stretch_factor=stretch_factor,window_len=win_len,gama=gama,transformed_xw=trans_xw)"
   ]
  },
  {
   "cell_type": "code",
   "execution_count": 190,
   "metadata": {},
   "outputs": [],
   "source": [
    "sd.play(np.int16(recSig),fs)"
   ]
  },
  {
   "cell_type": "code",
   "execution_count": 188,
   "metadata": {},
   "outputs": [],
   "source": [
    "sd.stop()"
   ]
  },
  {
   "cell_type": "code",
   "execution_count": 165,
   "metadata": {},
   "outputs": [],
   "source": [
    "ratio = stretch_factor\n",
    "X_tilta = [] \n",
    "diff=[]\n",
    "delta_phi_coarse = 2*math.pi*np.arange(0,win_len)/win_len \n",
    "#delta_phi_coarse = 2*pi*Ra*(0:N-1).'/N;\n",
    "#time_coef= np.arange(0,Ahop_times)* (1-overlap_factor)*win_len/fs\n",
    "phi_prev = np.zeros(win_len)\n",
    "phi_acc = np.zeros(win_len)\n",
    "for arr in trans_xw:\n",
    "    current_p =np.angle(arr)\n",
    "    current_A=np.abs(arr)\n",
    "    delta_phi_fine = current_p - phi_prev - delta_phi_coarse;\n",
    "    delta_phi = delta_phi_coarse + np.unwrap(delta_phi_fine);\n",
    "    phi_acc   = np.unwrap(phi_acc+delta_phi*ratio);\n",
    "    X_tilta = X_tilta + [np.multiply(current_A,np.exp(1j*phi_acc))];"
   ]
  },
  {
   "cell_type": "code",
   "execution_count": 185,
   "metadata": {},
   "outputs": [],
   "source": [
    "## another one\n",
    "ratio = stretch_factor\n",
    "X_tilta = [] \n",
    "diff=[]\n",
    "delta_freq_coarse = np.arange(0,win_len)* fs/win_len \n",
    "delT = (1-overlap_factor)*win_len /fs\n",
    "phi_prev = np.zeros(win_len)\n",
    "phi_acc = np.zeros(win_len)\n",
    "delt_s= ratio * delT\n",
    "for arr in trans_xw:\n",
    "    current_p =np.angle(arr)\n",
    "    current_A=np.abs(arr)\n",
    "    delta_phi = (current_p - phi_prev)/delT -delta_freq_coarse;\n",
    "    delta_phi_wrapped = np.mod(delta_phi+math.pi, 2*math.pi)-math.pi\n",
    "    omega_true = delta_freq_coarse + delta_phi_wrapped\n",
    "    phi_acc   = phi_prev +omega_true*delt_s\n",
    "    phi_prev = current_p\n",
    "    X_tilta = X_tilta + [np.multiply(current_A,np.exp(1j*phi_acc))];"
   ]
  },
  {
   "cell_type": "code",
   "execution_count": 169,
   "metadata": {},
   "outputs": [],
   "source": [
    "delT = (1-overlap_factor)*win_len /fs"
   ]
  },
  {
   "cell_type": "code",
   "execution_count": 171,
   "metadata": {},
   "outputs": [
    {
     "data": {
      "text/plain": [
       "array([1, 2, 0])"
      ]
     },
     "execution_count": 171,
     "metadata": {},
     "output_type": "execute_result"
    }
   ],
   "source": [
    "np.mod([1,2,3],3)"
   ]
  },
  {
   "cell_type": "code",
   "execution_count": 37,
   "metadata": {},
   "outputs": [
    {
     "data": {
      "text/plain": [
       "array([   0,    1,    2, ..., 8280, 8281, 8282])"
      ]
     },
     "execution_count": 37,
     "metadata": {},
     "output_type": "execute_result"
    }
   ],
   "source": [
    "np.arange(0,Ahop_times)"
   ]
  },
  {
   "cell_type": "code",
   "execution_count": 36,
   "metadata": {},
   "outputs": [
    {
     "data": {
      "text/plain": [
       "8283"
      ]
     },
     "execution_count": 36,
     "metadata": {},
     "output_type": "execute_result"
    }
   ],
   "source": [
    "Ahop_times"
   ]
  },
  {
   "cell_type": "code",
   "execution_count": 142,
   "metadata": {},
   "outputs": [
    {
     "data": {
      "text/plain": [
       "2048.0"
      ]
     },
     "execution_count": 142,
     "metadata": {},
     "output_type": "execute_result"
    }
   ],
   "source": [
    "gama[1]"
   ]
  },
  {
   "cell_type": "code",
   "execution_count": 144,
   "metadata": {},
   "outputs": [
    {
     "data": {
      "text/plain": [
       "1.5"
      ]
     },
     "execution_count": 144,
     "metadata": {},
     "output_type": "execute_result"
    }
   ],
   "source": [
    "beta[1]/gama[1]"
   ]
  },
  {
   "cell_type": "code",
   "execution_count": null,
   "metadata": {},
   "outputs": [],
   "source": [
    "g"
   ]
  }
 ],
 "metadata": {
  "kernelspec": {
   "display_name": "Python 3",
   "language": "python",
   "name": "python3"
  },
  "language_info": {
   "codemirror_mode": {
    "name": "ipython",
    "version": 3
   },
   "file_extension": ".py",
   "mimetype": "text/x-python",
   "name": "python",
   "nbconvert_exporter": "python",
   "pygments_lexer": "ipython3",
   "version": "3.7.6"
  }
 },
 "nbformat": 4,
 "nbformat_minor": 4
}
